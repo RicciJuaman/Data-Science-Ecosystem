{
 "cells": [
  {
   "cell_type": "markdown",
   "id": "63995f6a-58b9-4b97-a341-383f9b1c0237",
   "metadata": {},
   "source": [
    "# Data Science Tools and Ecosystem"
   ]
  },
  {
   "cell_type": "markdown",
   "id": "7fcab829-fd03-4690-bc0d-e481ba061dfd",
   "metadata": {},
   "source": [
    "## Author\n",
    "Ricci Doddz Caro Juaman"
   ]
  },
  {
   "cell_type": "markdown",
   "id": "aae69fa2-aabc-4fb3-b38a-2d7952b611d2",
   "metadata": {},
   "source": [
    "## Author\n",
    "Ricci Doddz Caro Juaman"
   ]
  },
  {
   "cell_type": "markdown",
   "id": "d8d9f65d-7424-4e65-a1b6-97fc104c096e",
   "metadata": {},
   "source": [
    "In this notebook, we offer a comprehensive overview of essential Python libraries and tools commonly used in data analysis, visualization, and machine learning within the broader Data Science ecosystem."
   ]
  },
  {
   "cell_type": "markdown",
   "id": "25d8d96f-18fb-4385-9646-efbc4d037874",
   "metadata": {},
   "source": [
    "**Objectives:**\n",
    "* List of Popular Languages for Data Science\n",
    "* List of commonly used libraries for Data Scicence\n",
    "* List of Data Science Tools\n",
    "* Examples of arithmetic expressions in Python"
   ]
  },
  {
   "cell_type": "markdown",
   "id": "e8f830f3-31f0-443e-b3e8-a85f52615026",
   "metadata": {},
   "source": [
    "Some of the popular languages that Data Scientists use are:\n",
    "1. Python\n",
    "2. R\n",
    "3. SQL\n",
    "4. Julia\n",
    "5. Scala"
   ]
  },
  {
   "cell_type": "markdown",
   "id": "c9d54298-4fb7-411a-99f4-c1dcfc190c23",
   "metadata": {},
   "source": [
    "Some of the commonly used libraries used by Data Scientists include:\n",
    "1. Pandas\n",
    "2. NumPy\n",
    "3. Matplotlib\n",
    "4. Scikit-learn\n",
    "5. Tensorflow"
   ]
  },
  {
   "cell_type": "markdown",
   "id": "2fac179c-6ab4-462d-a736-929534ede818",
   "metadata": {},
   "source": [
    "| Data Science Tools |\n",
    "|--------------------|\n",
    "| Jupyter Notebook |\n",
    "|RStudio |\n",
    "|Apache Spark|\n",
    "|Apache Hadoop|\n",
    "|Google Colab|"
   ]
  },
  {
   "cell_type": "markdown",
   "id": "503c2370-51d9-4b3e-a52f-83299d071957",
   "metadata": {},
   "source": [
    "### Below are a few examples of evaluating arithmetic expressions in Python."
   ]
  },
  {
   "cell_type": "code",
   "execution_count": 14,
   "id": "db7edd95-99ff-41da-a575-b6feee98a659",
   "metadata": {},
   "outputs": [
    {
     "data": {
      "text/plain": [
       "17"
      ]
     },
     "execution_count": 14,
     "metadata": {},
     "output_type": "execute_result"
    }
   ],
   "source": [
    "#This a simple arithmetic expression to mutiply then add integers.\n",
    "(3*4)+5"
   ]
  },
  {
   "cell_type": "code",
   "execution_count": 16,
   "id": "f06f0d6e-8777-4091-a93b-6e7d08c9fe49",
   "metadata": {},
   "outputs": [
    {
     "data": {
      "text/plain": [
       "3.3333333333333335"
      ]
     },
     "execution_count": 16,
     "metadata": {},
     "output_type": "execute_result"
    }
   ],
   "source": [
    "#This will convert 200 minutes to hours by diving by 60.\n",
    "200/60"
   ]
  }
 ],
 "metadata": {
  "kernelspec": {
   "display_name": "Python 3 (ipykernel)",
   "language": "python",
   "name": "python3"
  },
  "language_info": {
   "codemirror_mode": {
    "name": "ipython",
    "version": 3
   },
   "file_extension": ".py",
   "mimetype": "text/x-python",
   "name": "python",
   "nbconvert_exporter": "python",
   "pygments_lexer": "ipython3",
   "version": "3.12.4"
  }
 },
 "nbformat": 4,
 "nbformat_minor": 5
}
